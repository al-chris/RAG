{
 "cells": [
  {
   "cell_type": "code",
   "execution_count": 1,
   "metadata": {},
   "outputs": [],
   "source": [
    "import os\n",
    "\n",
    "from dotenv import load_dotenv\n",
    "\n",
    "load_dotenv()\n",
    "\n",
    "os.environ[\"LANGCHAIN_TRACING_V2\"] = 'true'\n",
    "\n",
    "os.environ[\"LANGCHAIN_ENDPOINT\"] = 'https://api.smith.langchain.com'\n",
    "\n",
    "os.environ[\"LANGCHAIN_API_KEY\"] = os.getenv('LANGCHAIN_API_KEY')"
   ]
  },
  {
   "cell_type": "code",
   "execution_count": 14,
   "metadata": {},
   "outputs": [],
   "source": [
    "from langchain_google_genai import GoogleGenerativeAI\n",
    "\n",
    "llm = GoogleGenerativeAI(model=\"gemini-1.5-flash\", google_api_key=os.getenv(\"GEMINI_API_KEY\"), temperature=0.2)"
   ]
  },
  {
   "cell_type": "code",
   "execution_count": 51,
   "metadata": {},
   "outputs": [],
   "source": [
    "post = \"\"\"\n",
    "Today I delved into the design of current and transresistance amplifiers in MOS (Metal-Oxide-Semiconductor) technology and I am eager to share my learnings.\n",
    "\n",
    "Current Amplifiers\n",
    "\n",
    "A current amplifier takes an input current and outputs an amplified current, making it a crucial component in sensor interfaces, current-mode signal processing circuits, and driving capacitive loads. The common-source amplifier configuration is typically used, where the input current passes through the transistor's channel and the amplified output current flows through a load resistor connected to the drain terminal.\n",
    "\n",
    "Transresistance/Transimpedance Amplifiers\n",
    "\n",
    "A transresistance amplifier converts an input voltage signal into an output current signal, making it a vital component in photodetection circuits, electrochemical and biochemical sensors, and current-to-voltage converters. The transconductance amplifier configuration is commonly used, where the input voltage is applied to the gate terminal, causing a proportional current to flow through the transistor's channel. The output current is then obtained from the drain terminal.\n",
    "\n",
    "Key Takeaways:\n",
    "\n",
    "- Current amplifiers amplify input current to output an amplified current.\n",
    "- Transresistance amplifiers convert input voltage to output current.\n",
    "- Both types of amplifiers are essential in various applications, including sensor interfaces, signal processing circuits, photodetection circuits, and electrochemical and biochemical sensors.\n",
    "\n",
    "Applications:\n",
    "\n",
    "- Sensor interfaces\n",
    "- Signal processing circuits\n",
    "- Photodetection circuits\n",
    "- Electrochemical and biochemical sensors\n",
    "- Photodiode amplifiers\n",
    "- Current-to-voltage converters\n",
    "\n",
    "Hopefully this post helps anyone to understand the basics of current and transresistance amplifiers in MOS technology\n",
    "\"\"\""
   ]
  },
  {
   "cell_type": "code",
   "execution_count": 52,
   "metadata": {},
   "outputs": [
    {
     "name": "stdout",
     "output_type": "stream",
     "text": [
      "Hey everyone! I've been diving into the world of current and transresistance amplifiers in MOS technology lately, and I wanted to share some of the cool things I've learned. \n",
      "\n",
      "Basically, current amplifiers take a tiny current signal and make it bigger, which is super useful for things like sensors and circuits that handle signals as current.  The common-source amplifier is a popular design for this.\n",
      "\n",
      "Transresistance amplifiers are a bit different – they take a voltage signal and turn it into a current signal. This is essential for things like photodetectors and sensors that measure chemical reactions. The transconductance amplifier is a common choice for this type of circuit.\n",
      "\n",
      "So, in a nutshell, these amplifiers are super important for all sorts of applications, from sensors to signal processing and even converting light into electrical signals. I hope this gives you a basic understanding of how they work! \n",
      "\n"
     ]
    }
   ],
   "source": [
    "print(llm.invoke(f\"You are a regular student. Rephrase this to sound less AI-ish (maximum of 200 words): {post}\").replace(\"*\", \"\"))"
   ]
  },
  {
   "cell_type": "code",
   "execution_count": null,
   "metadata": {},
   "outputs": [],
   "source": []
  }
 ],
 "metadata": {
  "kernelspec": {
   "display_name": "Python 3",
   "language": "python",
   "name": "python3"
  },
  "language_info": {
   "codemirror_mode": {
    "name": "ipython",
    "version": 3
   },
   "file_extension": ".py",
   "mimetype": "text/x-python",
   "name": "python",
   "nbconvert_exporter": "python",
   "pygments_lexer": "ipython3",
   "version": "3.12.5"
  }
 },
 "nbformat": 4,
 "nbformat_minor": 2
}
